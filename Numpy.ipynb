{
 "cells": [
  {
   "cell_type": "code",
   "execution_count": 13,
   "metadata": {},
   "outputs": [
    {
     "name": "stdout",
     "output_type": "stream",
     "text": [
      "Requirement already satisfied: numpy in /Users/nicholasrenotte/opt/anaconda3/lib/python3.7/site-packages (1.17.2)\r\n"
     ]
    }
   ],
   "source": [
    "!pip install numpy"
   ]
  },
  {
   "cell_type": "code",
   "execution_count": 1,
   "metadata": {},
   "outputs": [],
   "source": [
    "import numpy as np"
   ]
  },
  {
   "cell_type": "markdown",
   "metadata": {},
   "source": [
    "# 1. Create"
   ]
  },
  {
   "cell_type": "code",
   "execution_count": 55,
   "metadata": {},
   "outputs": [],
   "source": [
    "data = np.random.rand(2,3,4)\n",
    "zeroes = np.zeros((2,2,2))\n",
    "full = np.full((2,2,2), 10)\n",
    "ones = np.ones((2,2,2))"
   ]
  },
  {
   "cell_type": "code",
   "execution_count": 4,
   "metadata": {},
   "outputs": [
    {
     "data": {
      "text/plain": [
       "numpy.ndarray"
      ]
     },
     "execution_count": 4,
     "metadata": {},
     "output_type": "execute_result"
    }
   ],
   "source": [
    "type(ones)"
   ]
  },
  {
   "cell_type": "code",
   "execution_count": 4,
   "metadata": {},
   "outputs": [
    {
     "data": {
      "text/plain": [
       "array([[[0.29537327, 0.29653909, 0.68464021, 0.56286301],\n",
       "        [0.48818211, 0.41493784, 0.82536256, 0.87268431],\n",
       "        [0.91334937, 0.96686513, 0.78410488, 0.85997641]],\n",
       "\n",
       "       [[0.21969959, 0.78896717, 0.78477582, 0.10869201],\n",
       "        [0.80956658, 0.77166721, 0.37825216, 0.75815976],\n",
       "        [0.29930282, 0.80387203, 0.94290859, 0.06168592]]])"
      ]
     },
     "execution_count": 4,
     "metadata": {},
     "output_type": "execute_result"
    }
   ],
   "source": [
    "data"
   ]
  },
  {
   "cell_type": "code",
   "execution_count": 23,
   "metadata": {},
   "outputs": [
    {
     "data": {
      "text/plain": [
       "array([[[0., 0.],\n",
       "        [0., 0.]],\n",
       "\n",
       "       [[0., 0.],\n",
       "        [0., 0.]]])"
      ]
     },
     "execution_count": 23,
     "metadata": {},
     "output_type": "execute_result"
    }
   ],
   "source": [
    "zeroes"
   ]
  },
  {
   "cell_type": "code",
   "execution_count": 24,
   "metadata": {},
   "outputs": [
    {
     "data": {
      "text/plain": [
       "array([[[7, 7],\n",
       "        [7, 7]],\n",
       "\n",
       "       [[7, 7],\n",
       "        [7, 7]]])"
      ]
     },
     "execution_count": 24,
     "metadata": {},
     "output_type": "execute_result"
    }
   ],
   "source": [
    "full"
   ]
  },
  {
   "cell_type": "code",
   "execution_count": 5,
   "metadata": {},
   "outputs": [
    {
     "data": {
      "text/plain": [
       "array([[[1., 1.],\n",
       "        [1., 1.]],\n",
       "\n",
       "       [[1., 1.],\n",
       "        [1., 1.]]])"
      ]
     },
     "execution_count": 5,
     "metadata": {},
     "output_type": "execute_result"
    }
   ],
   "source": [
    "ones"
   ]
  },
  {
   "cell_type": "code",
   "execution_count": 25,
   "metadata": {},
   "outputs": [],
   "source": [
    "arr = np.array([[1,2],[1,2]])"
   ]
  },
  {
   "cell_type": "code",
   "execution_count": 26,
   "metadata": {},
   "outputs": [
    {
     "data": {
      "text/plain": [
       "numpy.ndarray"
      ]
     },
     "execution_count": 26,
     "metadata": {},
     "output_type": "execute_result"
    }
   ],
   "source": [
    "type(arr)"
   ]
  },
  {
   "cell_type": "code",
   "execution_count": 27,
   "metadata": {},
   "outputs": [
    {
     "data": {
      "text/plain": [
       "array([[1, 2, 3, 4],\n",
       "       [1, 2, 3, 4]])"
      ]
     },
     "execution_count": 27,
     "metadata": {},
     "output_type": "execute_result"
    }
   ],
   "source": [
    "arr"
   ]
  },
  {
   "cell_type": "markdown",
   "metadata": {},
   "source": [
    "# 2. Read"
   ]
  },
  {
   "cell_type": "code",
   "execution_count": 5,
   "metadata": {},
   "outputs": [],
   "source": [
    "# Attributes\n",
    "shape = data.shape\n",
    "size = data.size\n",
    "types = data.dtype"
   ]
  },
  {
   "cell_type": "code",
   "execution_count": 11,
   "metadata": {},
   "outputs": [
    {
     "data": {
      "text/plain": [
       "array([[[0.63300418, 0.17593692, 0.13513326, 0.1916735 ],\n",
       "        [0.70172506, 0.44661607, 0.57103419, 0.62720674],\n",
       "        [0.50080544, 0.53911353, 0.03920947, 0.89547377]],\n",
       "\n",
       "       [[0.96846367, 0.12312383, 0.41781795, 0.24339973],\n",
       "        [0.75518958, 0.01956998, 0.35070828, 0.9485432 ],\n",
       "        [0.40209481, 0.04095987, 0.50152996, 0.95999378]]])"
      ]
     },
     "execution_count": 11,
     "metadata": {},
     "output_type": "execute_result"
    }
   ],
   "source": [
    "data"
   ]
  },
  {
   "cell_type": "code",
   "execution_count": 20,
   "metadata": {},
   "outputs": [],
   "source": [
    "# Slicing\n",
    "arr = data[1][1][3]\n",
    "slicer = data[0][2][0:2]\n",
    "reverse = data[-1][-3][0]\n",
    "singleval = data[0][0][0]"
   ]
  },
  {
   "cell_type": "code",
   "execution_count": 21,
   "metadata": {},
   "outputs": [
    {
     "data": {
      "text/plain": [
       "0.9684636728217223"
      ]
     },
     "execution_count": 21,
     "metadata": {},
     "output_type": "execute_result"
    }
   ],
   "source": [
    "reverse"
   ]
  },
  {
   "cell_type": "code",
   "execution_count": 36,
   "metadata": {},
   "outputs": [
    {
     "data": {
      "text/plain": [
       "array([[[0.38796997, 0.87725663, 0.87671104, 0.94073715],\n",
       "        [0.81713558, 0.84183822, 0.51663735, 0.12651491],\n",
       "        [0.79809775, 0.29331182, 0.29304637, 0.80345301]],\n",
       "\n",
       "       [[0.99226407, 0.93758475, 0.0232816 , 0.66519671],\n",
       "        [0.92765324, 0.08248093, 0.5821684 , 0.18031316],\n",
       "        [0.39273609, 0.79520478, 0.29282367, 0.03004563]]])"
      ]
     },
     "execution_count": 36,
     "metadata": {},
     "output_type": "execute_result"
    }
   ],
   "source": [
    "data"
   ]
  },
  {
   "cell_type": "code",
   "execution_count": 35,
   "metadata": {},
   "outputs": [
    {
     "data": {
      "text/plain": [
       "array([[0.38796997, 0.87725663, 0.87671104, 0.94073715],\n",
       "       [0.81713558, 0.84183822, 0.51663735, 0.12651491]])"
      ]
     },
     "execution_count": 35,
     "metadata": {},
     "output_type": "execute_result"
    }
   ],
   "source": [
    "data[0][0:2]"
   ]
  },
  {
   "cell_type": "markdown",
   "metadata": {},
   "source": [
    "# 3. Update"
   ]
  },
  {
   "cell_type": "code",
   "execution_count": 22,
   "metadata": {},
   "outputs": [],
   "source": [
    "list1 = np.random.rand(10) \n",
    "list2 = np.random.rand(10) "
   ]
  },
  {
   "cell_type": "code",
   "execution_count": 30,
   "metadata": {},
   "outputs": [
    {
     "name": "stdout",
     "output_type": "stream",
     "text": [
      "[0.72589278 0.15510388 0.73478305 0.75786171 0.49987438 0.07326432\n",
      " 0.02334401 0.27183298 0.91244486 0.05746659]\n",
      "[0.32895571 0.07360814 0.18798545 0.16675329 0.41706143 0.63816911\n",
      " 0.19865109 0.85018027 0.68032045 0.14867787]\n"
     ]
    }
   ],
   "source": [
    "print(list1)\n",
    "print(list2)"
   ]
  },
  {
   "cell_type": "code",
   "execution_count": 24,
   "metadata": {},
   "outputs": [],
   "source": [
    "# Basic Math\n",
    "add = np.add(list1, list2)\n",
    "sub = np.subtract(list1, list2)\n",
    "div = np.divide(list1, list2)\n",
    "mult = np.multiply(list1, list2)\n",
    "dot = np.dot(list1, list2)"
   ]
  },
  {
   "cell_type": "code",
   "execution_count": 29,
   "metadata": {},
   "outputs": [
    {
     "data": {
      "text/plain": [
       "1.6349845519448063"
      ]
     },
     "execution_count": 29,
     "metadata": {},
     "output_type": "execute_result"
    }
   ],
   "source": [
    "dot    \n",
    "[1 2    \n",
    "3 4]"
   ]
  },
  {
   "cell_type": "code",
   "execution_count": 33,
   "metadata": {},
   "outputs": [],
   "source": [
    "# Stat Functions\n",
    "sqrt = np.sqrt(25)\n",
    "ab = np.abs(-2)\n",
    "power = np.power(2,7)\n",
    "log = np.log(data)\n",
    "exp = np.exp([2,3])\n",
    "mins = np.min(list1)\n",
    "maxs = np.max(list1)"
   ]
  },
  {
   "cell_type": "code",
   "execution_count": 34,
   "metadata": {},
   "outputs": [
    {
     "data": {
      "text/plain": [
       "array([[[-0.45727825, -1.73762976, -2.00149388, -1.65196187],\n",
       "        [-0.35421361, -0.80605596, -0.56030619, -0.46647907],\n",
       "        [-0.6915376 , -0.6178291 , -3.23883703, -0.11040235]],\n",
       "\n",
       "       [[-0.03204431, -2.09456467, -0.87270946, -1.41305019],\n",
       "        [-0.28078646, -3.93375834, -1.0478005 , -0.05282794],\n",
       "        [-0.91106737, -3.19516244, -0.69009193, -0.04082848]]])"
      ]
     },
     "execution_count": 34,
     "metadata": {},
     "output_type": "execute_result"
    }
   ],
   "source": [
    "log"
   ]
  },
  {
   "cell_type": "code",
   "execution_count": 14,
   "metadata": {},
   "outputs": [
    {
     "data": {
      "text/plain": [
       "array([[[0.01038681, 0.21787218, 0.42851835, 0.64881025],\n",
       "        [0.19335512, 0.21826725, 0.01899688, 0.76551894],\n",
       "        [0.177093  , 0.20436728, 0.87188558, 0.22251969]],\n",
       "\n",
       "       [[0.70927591, 0.34284349, 0.09135198, 0.4352562 ],\n",
       "        [0.70341639, 0.2321961 , 0.13272667, 0.24661041],\n",
       "        [0.34284819, 0.8144995 , 0.81043251, 0.66375411]]])"
      ]
     },
     "execution_count": 14,
     "metadata": {},
     "output_type": "execute_result"
    }
   ],
   "source": [
    "data"
   ]
  },
  {
   "cell_type": "code",
   "execution_count": 15,
   "metadata": {},
   "outputs": [],
   "source": [
    "data[0][0][0] = 700"
   ]
  },
  {
   "cell_type": "code",
   "execution_count": 16,
   "metadata": {},
   "outputs": [
    {
     "data": {
      "text/plain": [
       "array([[[7.00000000e+02, 2.17872178e-01, 4.28518346e-01, 6.48810251e-01],\n",
       "        [1.93355115e-01, 2.18267253e-01, 1.89968843e-02, 7.65518936e-01],\n",
       "        [1.77092995e-01, 2.04367276e-01, 8.71885582e-01, 2.22519694e-01]],\n",
       "\n",
       "       [[7.09275906e-01, 3.42843487e-01, 9.13519758e-02, 4.35256202e-01],\n",
       "        [7.03416388e-01, 2.32196098e-01, 1.32726668e-01, 2.46610413e-01],\n",
       "        [3.42848186e-01, 8.14499497e-01, 8.10432512e-01, 6.63754110e-01]]])"
      ]
     },
     "execution_count": 16,
     "metadata": {},
     "output_type": "execute_result"
    }
   ],
   "source": [
    "data"
   ]
  },
  {
   "cell_type": "code",
   "execution_count": 17,
   "metadata": {},
   "outputs": [
    {
     "data": {
      "text/plain": [
       "array([[[2.17872178e-01, 4.28518346e-01, 6.48810251e-01, 7.00000000e+02],\n",
       "        [1.89968843e-02, 1.93355115e-01, 2.18267253e-01, 7.65518936e-01],\n",
       "        [1.77092995e-01, 2.04367276e-01, 2.22519694e-01, 8.71885582e-01]],\n",
       "\n",
       "       [[9.13519758e-02, 3.42843487e-01, 4.35256202e-01, 7.09275906e-01],\n",
       "        [1.32726668e-01, 2.32196098e-01, 2.46610413e-01, 7.03416388e-01],\n",
       "        [3.42848186e-01, 6.63754110e-01, 8.10432512e-01, 8.14499497e-01]]])"
      ]
     },
     "execution_count": 17,
     "metadata": {},
     "output_type": "execute_result"
    }
   ],
   "source": [
    "data.sort()\n",
    "data"
   ]
  },
  {
   "cell_type": "code",
   "execution_count": 36,
   "metadata": {},
   "outputs": [
    {
     "name": "stdout",
     "output_type": "stream",
     "text": [
      "(2, 3, 4)\n"
     ]
    }
   ],
   "source": [
    "print(data.shape)"
   ]
  },
  {
   "cell_type": "code",
   "execution_count": 51,
   "metadata": {},
   "outputs": [
    {
     "data": {
      "text/plain": [
       "(24, 1)"
      ]
     },
     "execution_count": 51,
     "metadata": {},
     "output_type": "execute_result"
    }
   ],
   "source": [
    "data = data.reshape((24,1))\n",
    "data.shape"
   ]
  },
  {
   "cell_type": "code",
   "execution_count": 56,
   "metadata": {},
   "outputs": [
    {
     "data": {
      "text/plain": [
       "array([[[0.30459756, 0.6436106 , 0.04490208, 0.48948811],\n",
       "        [0.68950725, 0.17695198, 0.08806909, 0.47810265],\n",
       "        [0.34245206, 0.35787261, 0.69868359, 0.11836746]],\n",
       "\n",
       "       [[0.93172526, 0.63263487, 0.39823505, 0.53730206],\n",
       "        [0.88589436, 0.83842115, 0.03624557, 0.18994878],\n",
       "        [0.24607172, 0.56157991, 0.16763362, 0.75320552]]])"
      ]
     },
     "execution_count": 56,
     "metadata": {},
     "output_type": "execute_result"
    }
   ],
   "source": [
    "data"
   ]
  },
  {
   "cell_type": "code",
   "execution_count": 20,
   "metadata": {},
   "outputs": [
    {
     "name": "stdout",
     "output_type": "stream",
     "text": [
      "[0. 0. 0. 0. 0. 0. 0. 0.]\n",
      "[0. 0. 0. 0. 0. 0. 0. 0. 3. 4.]\n"
     ]
    }
   ],
   "source": [
    "zeroes = np.zeros((8))\n",
    "print(zeroes)\n",
    "zeroes = np.append(zeroes, [3,4])\n",
    "print(zeroes)"
   ]
  },
  {
   "cell_type": "code",
   "execution_count": 53,
   "metadata": {},
   "outputs": [
    {
     "name": "stdout",
     "output_type": "stream",
     "text": [
      "[0. 0. 1. 0. 0. 0. 0. 0. 0.]\n"
     ]
    }
   ],
   "source": [
    "zeroes = np.insert(zeroes, 2, 1)\n",
    "print(zeroes)"
   ]
  },
  {
   "cell_type": "markdown",
   "metadata": {},
   "source": [
    "# 4. Delete"
   ]
  },
  {
   "cell_type": "code",
   "execution_count": 54,
   "metadata": {},
   "outputs": [
    {
     "data": {
      "text/plain": [
       "array([[0.63300418],\n",
       "       [0.17593692],\n",
       "       [0.13513326],\n",
       "       [0.1916735 ],\n",
       "       [0.70172506],\n",
       "       [0.44661607],\n",
       "       [0.57103419],\n",
       "       [0.62720674],\n",
       "       [0.50080544],\n",
       "       [0.53911353],\n",
       "       [0.03920947],\n",
       "       [0.89547377],\n",
       "       [0.96846367],\n",
       "       [0.12312383],\n",
       "       [0.41781795],\n",
       "       [0.24339973],\n",
       "       [0.75518958],\n",
       "       [0.01956998],\n",
       "       [0.35070828],\n",
       "       [0.9485432 ],\n",
       "       [0.40209481],\n",
       "       [0.04095987],\n",
       "       [0.50152996],\n",
       "       [0.95999378]])"
      ]
     },
     "execution_count": 54,
     "metadata": {},
     "output_type": "execute_result"
    }
   ],
   "source": [
    "data"
   ]
  },
  {
   "cell_type": "code",
   "execution_count": 58,
   "metadata": {},
   "outputs": [
    {
     "data": {
      "text/plain": [
       "array([[[0.68950725, 0.17695198, 0.08806909, 0.47810265],\n",
       "        [0.34245206, 0.35787261, 0.69868359, 0.11836746]],\n",
       "\n",
       "       [[0.88589436, 0.83842115, 0.03624557, 0.18994878],\n",
       "        [0.24607172, 0.56157991, 0.16763362, 0.75320552]]])"
      ]
     },
     "execution_count": 58,
     "metadata": {},
     "output_type": "execute_result"
    }
   ],
   "source": [
    "np.delete(data, 0, axis=1)"
   ]
  },
  {
   "cell_type": "code",
   "execution_count": 18,
   "metadata": {},
   "outputs": [
    {
     "data": {
      "text/plain": [
       "(2, 3, 4)"
      ]
     },
     "execution_count": 18,
     "metadata": {},
     "output_type": "execute_result"
    }
   ],
   "source": [
    "data.shape"
   ]
  },
  {
   "cell_type": "code",
   "execution_count": 19,
   "metadata": {},
   "outputs": [
    {
     "data": {
      "text/plain": [
       "array([[[0.24796736, 0.26318018, 0.07889605, 0.64982113],\n",
       "        [0.35336218, 0.56947741, 0.75375773, 0.30142644],\n",
       "        [0.96675987, 0.02770207, 0.2196848 , 0.20971617]],\n",
       "\n",
       "       [[0.5062028 , 0.87119372, 0.45062165, 0.4162111 ],\n",
       "        [0.60495864, 0.95254273, 0.68392926, 0.16754938],\n",
       "        [0.11248144, 0.05641981, 0.06949209, 0.61425847]]])"
      ]
     },
     "execution_count": 19,
     "metadata": {},
     "output_type": "execute_result"
    }
   ],
   "source": [
    "data"
   ]
  },
  {
   "cell_type": "code",
   "execution_count": 20,
   "metadata": {},
   "outputs": [],
   "source": [
    "np.save(\"new array\", data)"
   ]
  },
  {
   "cell_type": "code",
   "execution_count": 21,
   "metadata": {},
   "outputs": [],
   "source": [
    "test = np.load(\"new array.npy\")"
   ]
  },
  {
   "cell_type": "code",
   "execution_count": 22,
   "metadata": {},
   "outputs": [
    {
     "data": {
      "text/plain": [
       "array([[[0.24796736, 0.26318018, 0.07889605, 0.64982113],\n",
       "        [0.35336218, 0.56947741, 0.75375773, 0.30142644],\n",
       "        [0.96675987, 0.02770207, 0.2196848 , 0.20971617]],\n",
       "\n",
       "       [[0.5062028 , 0.87119372, 0.45062165, 0.4162111 ],\n",
       "        [0.60495864, 0.95254273, 0.68392926, 0.16754938],\n",
       "        [0.11248144, 0.05641981, 0.06949209, 0.61425847]]])"
      ]
     },
     "execution_count": 22,
     "metadata": {},
     "output_type": "execute_result"
    }
   ],
   "source": [
    "test"
   ]
  },
  {
   "cell_type": "code",
   "execution_count": null,
   "metadata": {},
   "outputs": [],
   "source": []
  }
 ],
 "metadata": {
  "kernelspec": {
   "display_name": "Python 3 (ipykernel)",
   "language": "python",
   "name": "python3"
  },
  "language_info": {
   "codemirror_mode": {
    "name": "ipython",
    "version": 3
   },
   "file_extension": ".py",
   "mimetype": "text/x-python",
   "name": "python",
   "nbconvert_exporter": "python",
   "pygments_lexer": "ipython3",
   "version": "3.7.16"
  }
 },
 "nbformat": 4,
 "nbformat_minor": 2
}
